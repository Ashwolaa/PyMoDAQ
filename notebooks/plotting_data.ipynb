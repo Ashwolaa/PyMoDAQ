{
 "cells": [
  {
   "cell_type": "markdown",
   "id": "027b6826-d3ad-4cd0-90b8-1fc426656446",
   "metadata": {},
   "source": [
    "# Plotting Data\n",
    "\n",
    "\n",
    "Data in PyMoDAQ are featured with a lot of metadata, allowing their proper\n",
    "description and enabling seamlessly saving/loading to hdf5 files. But what about representation?\n",
    "Analysis? Exploration?\n",
    "\n",
    "With Python you usually do this by writing a script and manipulate and plot your data using your\n",
    "favorite backend (matplotlib, plotly, qt, tkinter, ...) However because PyMoDAQ is highly graphical\n",
    "you won't need that. PyMoDAQ is featured with various data viewers allowing you to plot any\n",
    "kind of data. You'll see below some nice examples of how to plot your PyMoDAQ's data using the builtin\n",
    "data viewers.\n",
    "\n",
    "## Plotting scalars: Viewer0D\n",
    "\n",
    "Scalars or `Data0D` data are the simplest form of data. However, just displaying numbers is somewhat lacking (in particular when one want to compare data evolution over time, or parameter change...). This is why it is important to keep track of the history of the scalar values. The `Viewer0D`, see below, has such an history as well as tools to keep track of the maximal reached value."
   ]
  },
  {
   "cell_type": "code",
   "execution_count": 6,
   "id": "1062abbf-80f8-4cf4-9f15-a18bc38dd5d7",
   "metadata": {},
   "outputs": [],
   "source": [
    "%gui qt\n",
    "import numpy as np\n",
    "\n",
    "from pymodaq.utils.plotting.data_viewers.viewer0D import Viewer0D\n",
    "from pymodaq.utils.data import DataRaw\n",
    "\n",
    "dwa = DataRaw('my_scalar', data=[np.array([10.6]), np.array([-4.6])])\n",
    "viewer0D = Viewer0D()\n"
   ]
  },
  {
   "cell_type": "code",
   "execution_count": 7,
   "id": "ce316205-2610-42c7-b586-65b864ddb88d",
   "metadata": {},
   "outputs": [],
   "source": [
    "viewer0D.show_data(dwa)"
   ]
  },
  {
   "cell_type": "markdown",
   "id": "16d91419-8c83-41a8-931d-f485b433db44",
   "metadata": {},
   "source": [
    "![Showing scalars](plotting_data/viewer0D_simple.png)\n",
    "\n",
    "Well not much can be seen except for the numbers printed on the right (shown by clicking on the dedicated button ![](plotting_data/viewer0D_123.png)). But what if I call several time the `show_data` method to display evolving signal?"
   ]
  },
  {
   "cell_type": "code",
   "execution_count": 8,
   "id": "74241e27-741d-453f-8179-878660c8dedc",
   "metadata": {},
   "outputs": [],
   "source": [
    "for ind in range(100):\n",
    "    dwa = DataRaw('my_scalar', data=[np.sin([ind / 100 * 2*np.pi]),\n",
    "                                     np.sin([ind / 100 * 2*np.pi + np.pi/4])],\n",
    "                 labels=['mysinus', 'my_dephased_sinus'])\n",
    "    viewer0D.show_data(dwa)"
   ]
  },
  {
   "attachments": {},
   "cell_type": "markdown",
   "id": "f41c1c92-a2c7-46d2-a5c3-8db9a4e731cf",
   "metadata": {},
   "source": [
    "![Showing an history of scalars, together with their min and max values (dashed lines)](plotting_data/viewer0D_sinus.png)\n",
    "\n",
    "You immediately see the usefulness of such an history, allowing for instance to optimize signals when tweaking a parameter especially if you use the dashed lines, triggered by ![Min/Max dashed lines](plotting_data/viewer0D_min_max.png), showing the values of the min and max reached values.\n"
   ]
  },
  {
   "cell_type": "markdown",
   "id": "5f9a8b7c-0fe5-4b8c-8766-35847bf6702e",
   "metadata": {},
   "source": [
    "## Plotting vectors/waveforms: Viewer1D\n",
    "\n",
    "When increasing complexity, one get one dimensional data. It has one more important metadata, its axis. Properly defining the data object will translate into rich plots:"
   ]
  },
  {
   "cell_type": "code",
   "execution_count": 9,
   "id": "01333bc0-1cf9-45bd-8b88-dcff5538b816",
   "metadata": {},
   "outputs": [
    {
     "data": {
      "text/plain": [
       "<pymodaq.utils.plotting.data_viewers.viewer1D.Viewer1D at 0x2c0a3cff400>"
      ]
     },
     "execution_count": 9,
     "metadata": {},
     "output_type": "execute_result"
    }
   ],
   "source": [
    "from pymodaq.utils import math_utils as mutils\n",
    "from pymodaq.utils.data import Axis\n",
    "\n",
    "axis = Axis('my axis', units='my units', data=np.linspace(-10000, 10000, 100))\n",
    "\n",
    "dwa = DataRaw('my_1D_data', data=[mutils.gauss1D(axis.get_data(), 3300, 2500),\n",
    "                                  mutils.gauss1D(axis.get_data(), -4000, 1500) * 0.5],\n",
    "              labels=['a gaussian', 'another gaussian'],\n",
    "              axes=[axis])\n",
    "dwa.plot('qt')"
   ]
  },
  {
   "cell_type": "markdown",
   "id": "97b7adfa-e381-4f23-9bcf-675004ce96cb",
   "metadata": {},
   "source": [
    "..note::\n",
    "  One can directly call the method `plot` on a data object, PyMoDAQ will determine which data viewer to use.\n",
    "\n",
    "![Showing Data1D](plotting_data/viewer1D.png)\n",
    "\n",
    "You can see the legends correspond to the data labels, while the axis shows both the label and the units in scientific notation (notice the k before 'my units' standing for kilo).\n",
    "\n",
    "As for the buttons in the toolbar (you can try them from the notebook):\n",
    "\n",
    "* ![Showing Data1D](plotting_data/viewer1D_roi.png): opens the ROI (region of interest) manager, to load, save and define ROI to apply to the data. This will create croped Data1D and Data0D for the application of an operation on the croped data such as *mean*, *sum*, *std*... See figure below, showing the mean value on the bottom panel. ROI can be applied to one of the trace or to both as reflected by the legends\n",
    "* ![Showing Data1D](plotting_data/viewer1D_crosshair.png): activate the croshair (yellow vertical line) that can be grabed and translated. The data at the crosshair position is printed on the right of the toolbar.\n",
    "* ![Showing Data1D](plotting_data/viewer1D_zoom.png): fix the horizontal/vertical aspect ratio (usefull for xy plot see below)\n",
    "* ![Showing Data1D](plotting_data/viewer1D_dot.png): as shown on the figure below, one can switch between solid line or only dots.\n",
    "* ![Showing Data1D](plotting_data/viewer1D_xy.png): when data contains two waveforms, using this button will display them in XY mode.\n",
    "* ![Showing Data1D](plotting_data/viewer1D_overlay.png): when activated, an overlay of the current data will be depicted with a dash line. \n",
    "* ![Showing Data1D](plotting_data/viewer1D_sort.png): if the axis data is not monotonous, data will be represented as a scrambled solid line, using this button will reorder the data by ascending values of its axis. See below and figure xx\n",
    "* ![Showing Data1D](plotting_data/viewer1D_roi_select.png): extra ROI that can be used independantly of the ROI manager\n",
    "\n",
    "![Showing Data1D](plotting_data/viewer1D_with_roi_crosshair_dot.png)"
   ]
  },
  {
   "cell_type": "markdown",
   "id": "c4fc8ec9-504b-491a-9530-7ab18989f541",
   "metadata": {},
   "source": [
    "If the axis data is not monotonous, data will be represented as a scrambled solid line, for instance:"
   ]
  },
  {
   "cell_type": "code",
   "execution_count": 10,
   "id": "0dd7b1da-6234-4b8e-95b3-27fc08a447df",
   "metadata": {},
   "outputs": [
    {
     "data": {
      "text/plain": [
       "<pymodaq.utils.plotting.data_viewers.viewer1D.Viewer1D at 0x2c0a6567010>"
      ]
     },
     "execution_count": 10,
     "metadata": {},
     "output_type": "execute_result"
    }
   ],
   "source": [
    "axis_shuffled_array = axis.get_data() \n",
    "np.random.shuffle(axis_shuffled_array)\n",
    "axis_shuffled = Axis('my axis', units='my units', data=axis_shuffled_array)\n",
    "\n",
    "dwa = DataRaw('my_1D_data', data=[mutils.gauss1D(axis_shuffled.get_data(), 3300, 2500),\n",
    "                                  mutils.gauss1D(axis_shuffled.get_data(), -4000, 1500) * 0.5],\n",
    "              labels=['a gaussian', 'another gaussian'],\n",
    "              axes=[axis_shuffled])\n",
    "dwa.plot('qt')"
   ]
  },
  {
   "cell_type": "markdown",
   "id": "e33ca3e0-a02d-49c0-946b-c6cf283f333c",
   "metadata": {},
   "source": [
    "![Showing Data1D](plotting_data/viewer1D_shuffled.png)"
   ]
  },
  {
   "cell_type": "markdown",
   "id": "bdcb70ac-065a-43d8-9795-cb85a4756d43",
   "metadata": {},
   "source": [
    "The scrambled lines (left) still represents Gaussians, it is just that the random ordering scrambled the lines. If one remove the lines by clicking the `dot only` button, the Gaussians reappear (middle). They reappear also after pressing the sort button (right).\n",
    "\n",
    "## Plotting 2D data\n",
    "\n",
    "2D data can be either an image (pixels on a regular grid) or as a collection of scalars with XY coordinates. PyMoDAQ introduce therefore the notion of \"uniform\" data for the former and \"spread\" data for the later. They can however be transparently plotted on the same `Viewer2D` data viewer. One will first show both cases before discussing the `Viewer2D` toolbar.  \n",
    "\n",
    "### Uniform data\n",
    "Let's generate data displaying a 2D Gaussian distribution:"
   ]
  },
  {
   "cell_type": "code",
   "execution_count": 11,
   "id": "6a8b18cb-01e4-45a6-a674-a723db39719f",
   "metadata": {},
   "outputs": [
    {
     "data": {
      "text/plain": [
       "<pymodaq.utils.plotting.data_viewers.viewer2D.Viewer2D at 0x2c0a1a96e60>"
      ]
     },
     "execution_count": 11,
     "metadata": {},
     "output_type": "execute_result"
    }
   ],
   "source": [
    "# generating uniform 2D data\n",
    "NX = 100\n",
    "NY = 50\n",
    "x_axis = Axis('xaxis', 'xunits', data=np.linspace(-20, 20, NX), index=1)\n",
    "y_axis = Axis('yaxis', 'yunits', data=np.linspace(20, 40, NY), index=0)\n",
    "\n",
    "data_arrays_2D = [mutils.gauss2D(x_axis.get_data(), -5, 10, y_axis.get_data(), 25, 2),\n",
    "                 mutils.gauss2D(x_axis.get_data(), 5, 5, y_axis.get_data(), 30, 8)]\n",
    "data2D = DataRaw('data2DUniform', data=data_arrays_2D, axes=[x_axis, y_axis],\n",
    "                labels=['red gaussian', 'green gaussian'])\n",
    "data2D.plot('qt')"
   ]
  },
  {
   "cell_type": "markdown",
   "id": "e66740bc-d9c4-4e37-b4e8-0c8ff056329e",
   "metadata": {},
   "source": [
    "![Showing Data2D](plotting_data/viewer2D_uniform.png)\n",
    "\n",
    "The bottom and left axes correspond to the image pixels while the left and top one correspond to the real physical axes defined in the data object. When several arrays are included into the data object, they will be displayed as RGB layers. Data visibility can be set using the red/green (blue) buttons. If only one array is used, the color will be white.\n",
    "\n",
    "### Spread Data\n",
    "\n",
    "Spread 2D data are typically what you get when doing a `Spread` or `Tabular` 2D scan, see :ref:`scanner_paragrah`. By the way, `Spread` or `Tabular` 1D scan would typically give the scrambled plot on figure :numref:`XXX`. Let's generate and plot such 2D data"
   ]
  },
  {
   "cell_type": "code",
   "execution_count": 14,
   "id": "7d9024ca-0637-4ba6-b825-a1353071203a",
   "metadata": {},
   "outputs": [
    {
     "data": {
      "text/plain": [
       "<pymodaq.utils.plotting.data_viewers.viewerND.ViewerND at 0x2c0a93305e0>"
      ]
     },
     "execution_count": 14,
     "metadata": {},
     "output_type": "execute_result"
    }
   ],
   "source": [
    "# generating Npts of spread 2D data\n",
    "N = 100\n",
    "x_axis_array = np.random.randint(-20, 50, size=N)\n",
    "y_axis_array = np.random.randint(20, 40, size=N)\n",
    "x_axis = Axis('xaxis', 'xunits', data=x_axis_array, index=0, spread_order=0)\n",
    "y_axis = Axis('yaxis', 'yunits', data=y_axis_array, index=0, spread_order=1)\n",
    "\n",
    "data_list = []\n",
    "for ind in range(N):\n",
    "    data_list.append(mutils.gauss2D(x_axis.get_data()[ind], 10, 15,\n",
    "                                    y_axis.get_data()[ind], 30, 5))\n",
    "data_array = np.squeeze(np.array(data_list))\n",
    "\n",
    "data2D_spread = DataRaw('data2DSpread', data=[data_array],\n",
    "                         axes=[x_axis, y_axis],\n",
    "                         distribution='spread',\n",
    "                         nav_indexes=(0,))\n",
    "data2D_spread.plot('qt')"
   ]
  },
  {
   "cell_type": "code",
   "execution_count": 16,
   "id": "eaff7b11-9fad-4615-9506-7b350b01d4a6",
   "metadata": {},
   "outputs": [
    {
     "name": "stdout",
     "output_type": "stream",
     "text": [
      "(100,)\n"
     ]
    }
   ],
   "source": [
    "print(data_array.shape)"
   ]
  },
  {
   "cell_type": "markdown",
   "id": "18de2e4b-1922-431d-860d-dc3b88ee9e15",
   "metadata": {
    "jp-MarkdownHeadingCollapsed": true
   },
   "source": [
    "### Toolbar\n",
    "\n",
    "As for the buttons in the toolbar (you can try them from the notebook):\n",
    "\n",
    "* ![Viewer2D](plotting_data/viewer2D_rgb.png): \n",
    "* ![Viewer2D](plotting_data/viewer2D_autoscale.png):\n",
    "* ![Viewer2D](plotting_data/viewer2D_histogram.png):\n",
    "* ![Viewer2D](plotting_data/viewer2D_roi.png):\n",
    "* ![Viewer2D](plotting_data/viewer2D_isocurve.png):\n",
    "* ![Viewer2D](plotting_data/viewer2D_aspect.png):\n",
    "* ![Viewer2D](plotting_data/viewer2D_crosshair.png):\n",
    "* ![Viewer2D](plotting_data/viewer2D_roi_select.png):\n",
    "* ![Viewer2D](plotting_data/viewer2D_orientation.png):\n",
    "* ![Viewer2D](plotting_data/viewer2D_legend.png):"
   ]
  }
 ],
 "metadata": {
  "kernelspec": {
   "display_name": "pymo4_dev_py10",
   "language": "python",
   "name": "pymo4_dev_py10"
  },
  "language_info": {
   "codemirror_mode": {
    "name": "ipython",
    "version": 3
   },
   "file_extension": ".py",
   "mimetype": "text/x-python",
   "name": "python",
   "nbconvert_exporter": "python",
   "pygments_lexer": "ipython3",
   "version": "3.10.13"
  }
 },
 "nbformat": 4,
 "nbformat_minor": 5
}
