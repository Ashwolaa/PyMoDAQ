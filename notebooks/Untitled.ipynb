{
 "cells": [
  {
   "cell_type": "code",
   "execution_count": 2,
   "id": "c43e4f85-460f-47f1-8cc1-982747bc6386",
   "metadata": {},
   "outputs": [
    {
     "data": {
      "text/plain": [
       "<pymodaq.utils.plotting.data_viewers.viewer2D.Viewer2D at 0x2139da40f70>"
      ]
     },
     "execution_count": 2,
     "metadata": {},
     "output_type": "execute_result"
    }
   ],
   "source": [
    "%gui qt\n",
    "import numpy as np\n",
    "from pymodaq.utils import math_utils as mutils\n",
    "from pymodaq.utils.data import Axis, DataRaw\n",
    "# generating Npts of spread 2D data\n",
    "N = 300\n",
    "x_axis_array = np.random.randint(-20, 50, size=N)\n",
    "y_axis_array = np.random.randint(20, 60, size=N)\n",
    "x_axis = Axis('xaxis', 'xunits', data=x_axis_array, index=0, spread_order=0)\n",
    "y_axis = Axis('yaxis', 'yunits', data=y_axis_array, index=0, spread_order=1)\n",
    "\n",
    "data_list = []\n",
    "for ind in range(N):\n",
    "    data_list.append(mutils.gauss2D(x_axis.get_data()[ind], 10, 15,\n",
    "                                    y_axis.get_data()[ind], 40, 10))\n",
    "data_array = np.squeeze(np.array(data_list))\n",
    "\n",
    "data2D_spread = DataRaw('data2DSpread', data=[data_array],\n",
    "                         axes=[x_axis, y_axis],\n",
    "                         distribution='spread',\n",
    "                         nav_indexes=(0,))\n",
    "data2D_spread.plot('qt')"
   ]
  }
 ],
 "metadata": {
  "kernelspec": {
   "display_name": "pymo4_dev_py10",
   "language": "python",
   "name": "pymo4_dev_py10"
  },
  "language_info": {
   "codemirror_mode": {
    "name": "ipython",
    "version": 3
   },
   "file_extension": ".py",
   "mimetype": "text/x-python",
   "name": "python",
   "nbconvert_exporter": "python",
   "pygments_lexer": "ipython3",
   "version": "3.10.13"
  }
 },
 "nbformat": 4,
 "nbformat_minor": 5
}
